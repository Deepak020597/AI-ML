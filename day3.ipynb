{
 "cells": [
  {
   "cell_type": "code",
   "execution_count": null,
   "metadata": {},
   "outputs": [],
   "source": [
    "import numpy as np\n",
    "\n",
    "# Create two 3x3 matrices with random integer values between 1 and 10\n",
    "matrix1 = np.random.randint(1, 11, size=(3, 3))\n",
    "matrix2 = np.random.randint(1, 11, size=(3, 3))\n",
    "\n",
    "# Perform matrix multiplication\n",
    "result_matrix = np.dot(matrix1, matrix2)\n",
    "\n",
    "# Print the resulting matrix\n",
    "print(\"Matrix 1:\\n\", matrix1)\n",
    "print(\"Matrix 2:\\n\", matrix2)\n",
    "print(\"Resulting Matrix after Multiplication:\\n\", result_matrix)\n"
   ]
  }
 ],
 "metadata": {
  "language_info": {
   "name": "python"
  }
 },
 "nbformat": 4,
 "nbformat_minor": 2
}
